{
 "cells": [
  {
   "cell_type": "code",
   "execution_count": null,
   "metadata": {},
   "outputs": [],
   "source": [
    "import os\n",
    "PROJ_DIR = os.path.expanduser(\"~/projects/bayesian_symbolic_physics\")\n",
    "\n",
    "import pickle\n",
    "import numpy as np\n",
    "import pandas as pd\n",
    "from matplotlib import pyplot as plt\n",
    "plt.style.use(\"bmh\")"
   ]
  },
  {
   "cell_type": "code",
   "execution_count": null,
   "metadata": {},
   "outputs": [],
   "source": [
    "def reorder(people, oracle, order):\n",
    "    As = []\n",
    "    for i in range(10):\n",
    "        opt = np.array(oracle[i])[order]\n",
    "        for j in range(6):\n",
    "            idx = j + 6 * i\n",
    "            A = []\n",
    "            for k in range(3):\n",
    "                a = people[idx,:,opt[k]]\n",
    "                A.append(a)\n",
    "            A = np.stack(A).transpose()\n",
    "            As.append(A)\n",
    "    A = np.stack(As)\n",
    "    return A\n",
    "\n",
    "def plot_matrix(mat, labels, rotate=False):\n",
    "    fig, ax = plt.subplots(figsize=(2.5, 2.5))\n",
    "    im = ax.imshow(mat, vmin=0, vmax=1)\n",
    "\n",
    "    # We want to show all ticks...\n",
    "    ax.set_xticks(np.arange(len(labels)))\n",
    "    ax.set_yticks(np.arange(len(labels)))\n",
    "    # ... and label them with the respective list entries\n",
    "    ax.set_xticklabels(labels)\n",
    "    ax.set_yticklabels(labels)\n",
    "    # ... and remove grids\n",
    "    ax.grid(False)\n",
    "\n",
    "    if rotate:\n",
    "        # Rotate the tick labels and set their alignment.\n",
    "        plt.setp(ax.get_xticklabels(), rotation=45, ha=\"right\",\n",
    "                 rotation_mode=\"anchor\")\n",
    "\n",
    "    # Loop over data dimensions and create text annotations.\n",
    "    for i in range(len(labels)):\n",
    "        for j in range(len(labels)):\n",
    "            text = ax.text(j, i, f\"{mat[i, j]:.3f}\",\n",
    "                           ha=\"center\", va=\"center\", color=\"w\")\n",
    "\n",
    "def compute_acc(mat):\n",
    "    acc = []\n",
    "    for idx in range(60):\n",
    "        for k in range(3):\n",
    "            val = mat[idx,k,:]\n",
    "            if val.sum() > 0:\n",
    "                acc.append(val[k])\n",
    "    return np.mean(acc)\n",
    "\n",
    "def compute_mean(mat):\n",
    "    matMean = np.zeros([3, 3])\n",
    "    n = np.zeros(3)\n",
    "    for idx in range(60):\n",
    "        for k in range(3):\n",
    "            val = mat[idx,k,:]\n",
    "            if val.sum() > 0:\n",
    "                matMean[k,:] += val\n",
    "                n[k] += 1\n",
    "    matMean = matMean / np.expand_dims(n, axis=1)\n",
    "    return matMean"
   ]
  },
  {
   "cell_type": "code",
   "execution_count": null,
   "metadata": {},
   "outputs": [],
   "source": [
    "# When opened you should get a matrix that goes stim x property X property. \n",
    "# The properties are in ascending order. \n",
    "# So, for example, peopleMass is a 60 x 3 x 3; \n",
    "# the [i,j,k] entry E there is a number between 0-1 that indicates that in stimuli i, when the ground truth was j, E% of people estimated it was property k. \n",
    "\n",
    "# ``For mass, the properties are light/medium/heavy (corresponding to 1, 3, 9)''\n",
    "peopleMass     = pickle.load(open( f\"{PROJ_DIR}/paper/raw/peopleMass.p\",     \"rb\"), encoding=\"bytes\")\n",
    "# ``For friction ('goo'), the properties are smooth/rough/very rough (corresponding to 0, 5, 20)''\n",
    "peopleGoo      = pickle.load(open( f\"{PROJ_DIR}/paper/raw/peopleGoo.p\",      \"rb\"), encoding=\"bytes\")\n",
    "# ``For global, it should be none/up/down/left/right''\n",
    "peopleGlobal   = pickle.load(open( f\"{PROJ_DIR}/paper/raw/peopleGlobal.p\",   \"rb\"), encoding=\"bytes\")\n",
    "# For pairwise, it should be attract/repel/none\n",
    "peoplePairwise = pickle.load(open( f\"{PROJ_DIR}/paper/raw/peoplePairwise.p\", \"rb\"), encoding=\"bytes\")"
   ]
  },
  {
   "cell_type": "code",
   "execution_count": null,
   "metadata": {},
   "outputs": [],
   "source": [
    "# Red, Yellow, Blue\n",
    "oracleMass = [\n",
    "    [1, 0, 2], [2, 1, 0], [0, 2, 1], [1, 0, 2], [2, 1, 0],\n",
    "    [0, 2, 1], [0, 2, 1], [1, 0, 2], [2, 1, 0], [1, 0, 2],\n",
    "]\n",
    "# -> Red, Blue, Yellow\n",
    "orderMass = [0, 2, 1]\n",
    "\n",
    "peopleMassR = reorder(peopleMass, oracleMass, orderMass)\n",
    "\n",
    "print(compute_acc(peopleMassR))\n",
    "\n",
    "peopleMassMean = compute_mean(peopleMassR)\n",
    "plot_matrix(peopleMassMean, [\"Light\", \"Medium\", \"Heavy\"])"
   ]
  },
  {
   "cell_type": "code",
   "execution_count": null,
   "metadata": {},
   "outputs": [],
   "source": [
    "bspMassMean = np.array([[0.522727, 0.318182, 0.159091], \n",
    "                        [0.340909, 0.454545, 0.204545], \n",
    "                        [0.386364, 0.386364, 0.227273]])\n",
    "plot_matrix(bspMassMean, [\"Light\", \"Medium\", \"Heavy\"])"
   ]
  },
  {
   "cell_type": "code",
   "execution_count": null,
   "metadata": {},
   "outputs": [],
   "source": [
    "fig, ax = plt.subplots(figsize=(3, 3))\n",
    "ax.scatter(peopleMassMean, bspMassMean)\n",
    "ax.set_xlim(0, 1)\n",
    "ax.set_ylim(0, 1)"
   ]
  },
  {
   "cell_type": "code",
   "execution_count": null,
   "metadata": {},
   "outputs": [],
   "source": [
    "# Green, Purple, Brown\n",
    "oracleGoo = [\n",
    "    [2, 0, 1], [0, 1, 2], [1, 2, 0], [2, 0, 1], [2, 0, 1],\n",
    "    [0, 1, 2], [0, 1, 2], [1, 2, 0], [1, 2, 0], [2, 0, 1],\n",
    "]\n",
    "# -> Brown, Green, Purple\n",
    "orderGoo = [2, 0, 1]\n",
    "\n",
    "peopleGooR = reorder(peopleGoo, oracleGoo, orderGoo)\n",
    "\n",
    "print(compute_acc(peopleGooR))\n",
    "\n",
    "plot_matrix(compute_mean(peopleGooR), [\"Smooth\", \"Weak\", \"Strong\"])"
   ]
  },
  {
   "cell_type": "code",
   "execution_count": null,
   "metadata": {},
   "outputs": [],
   "source": [
    "oracleGlobal = [0, 0, 0, 0, 0, 0, 3, 4, 2, 1]\n",
    "acc = []\n",
    "for i in range(10):\n",
    "    for j in range(6):\n",
    "        idx = j + 6 * i\n",
    "        acc.append(peopleGlobal[idx,oracleGlobal[i]])\n",
    "np.mean(acc)"
   ]
  },
  {
   "cell_type": "code",
   "execution_count": null,
   "metadata": {},
   "outputs": [],
   "source": [
    "bspMassMean = np.array([[0.295455, 0.181818, 0.522727], \n",
    "                        [0.363636, 0.227273, 0.409091], \n",
    "                        [0.386364, 0.227273, 0.386364]])\n",
    "plot_matrix(bspMassMean, [\"Smooth\", \"Weak\", \"Strong\"])"
   ]
  },
  {
   "cell_type": "code",
   "execution_count": null,
   "metadata": {},
   "outputs": [],
   "source": [
    "import cv2\n",
    "\n",
    "vpath = \"~/projects/bayesian_symbolic/data/ullman/world1_1.mp4\"\n",
    "\n",
    "frames = []\n",
    "cap = cv2.VideoCapture(vpath)\n",
    "while True:\n",
    "    ret, frame = cap.read()\n",
    "    frames.append(frame)\n",
    "    if not ret: break\n",
    "        \n",
    "def mix(ws, frames):\n",
    "    retval = []\n",
    "    for (w, frame) in zip(ws, frames):\n",
    "        retval.append(w * frame.astype(np.int))\n",
    "    return np.sum(retval, axis=0).astype(np.uint8)\n",
    "\n",
    "def cv2imshow(ax, img):\n",
    "    ax.imshow(cv2.cvtColor(img, cv2.COLOR_BGR2RGB))\n",
    "    ax.get_xaxis().set_visible(False)\n",
    "    ax.get_yaxis().set_visible(False)\n",
    "\n",
    "fig, ax = plt.subplots()\n",
    "\n",
    "cv2imshow(ax, mix([0.1, 0.2, 0.7], [frames[0], frames[9], frames[19]]))"
   ]
  }
 ],
 "metadata": {
  "kernelspec": {
   "display_name": "Python 3 (ml)",
   "language": "python",
   "name": "python-ml"
  },
  "language_info": {
   "codemirror_mode": {
    "name": "ipython",
    "version": 3
   },
   "file_extension": ".py",
   "mimetype": "text/x-python",
   "name": "python",
   "nbconvert_exporter": "python",
   "pygments_lexer": "ipython3",
   "version": "3.7.7"
  }
 },
 "nbformat": 4,
 "nbformat_minor": 5
}
