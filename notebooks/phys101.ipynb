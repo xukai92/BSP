{
 "cells": [
  {
   "cell_type": "code",
   "execution_count": null,
   "metadata": {},
   "outputs": [],
   "source": [
    "1 + 1"
   ]
  },
  {
   "cell_type": "code",
   "execution_count": null,
   "metadata": {},
   "outputs": [],
   "source": [
    "using InteractiveUtils, DrWatson, Comonicon\n",
    "if isdefined(Main, :IJulia) && Main.IJulia.inited\n",
    "    using Revise\n",
    "else\n",
    "    ENV[\"GKSwstype\"] = 100 # suppress warnings during gif saving\n",
    "end\n",
    "versioninfo()\n",
    "@quickactivate"
   ]
  },
  {
   "cell_type": "code",
   "execution_count": null,
   "metadata": {},
   "outputs": [],
   "source": [
    "using Plots, ProgressMeter, Logging\n",
    "theme(:bright; size=(300, 300))"
   ]
  },
  {
   "cell_type": "code",
   "execution_count": null,
   "metadata": {},
   "outputs": [],
   "source": [
    "using Random, Turing, BayesianSymbolic\n",
    "using ExprOptimization.ExprRules\n",
    "using PyCall\n",
    "pd = pyimport(\"pandas\")\n",
    "\n",
    "includef(args...) = isdefined(Main, :Revise) ? includet(args...) : include(args...)\n",
    "includef(srcdir(\"utility.jl\"))\n",
    "includef(srcdir(\"app_inf.jl\"))\n",
    "includef(srcdir(\"sym_reg.jl\"))\n",
    "includef(srcdir(\"network.jl\"))\n",
    "includef(srcdir(\"exp_max.jl\"))\n",
    "includef(srcdir(\"analyse.jl\"))\n",
    "includef(srcdir(\"dataset.jl\"))\n",
    "# Suppress warnings of using _varinfo\n",
    "with_logger(SimpleLogger(stderr, Logging.Error)) do\n",
    "    includef(srcdir(\"scenarios\", \"spring.jl\"))\n",
    "    includef(srcdir(\"scenarios\", \"fall.jl\"))\n",
    "end"
   ]
  },
  {
   "cell_type": "markdown",
   "metadata": {},
   "source": [
    "Report results on FALL"
   ]
  },
  {
   "cell_type": "code",
   "execution_count": null,
   "metadata": {},
   "outputs": [],
   "source": [
    "function report_phys101(dataset; verbose=false)\n",
    "    dataset = \"phys101/$dataset\"\n",
    "    df = pd.DataFrame(\n",
    "        columns=(\"Method\", \"Normliased RMSE (train)\", \"Normliased RMSE (test)\", \"EM seed\", \"Data seed\")\n",
    "    )\n",
    "\n",
    "    count = 1\n",
    "    for seed in 1:3, shuffleseed in 1:6\n",
    "        hps = (ntrains=2, seed=seed, shuffleseed=shuffleseed)\n",
    "\n",
    "        dir = datadir(dataset)\n",
    "        scenarios, attributes = loaddata(dir, hps.ntrains; shuffleseed=hps.shuffleseed)\n",
    "        scenarios_test, attributes_test = loaddata(dir, 2; shuffleseed=hps.shuffleseed, istrain=false)\n",
    "\n",
    "        local res\n",
    "        try\n",
    "            res = wload(resultsdir(dataset, savename(hps; connector=\"-\"), \"em.jld2\"))\n",
    "        catch\n",
    "            println(\"seed $(hps.seed) unfinished\")\n",
    "        end\n",
    "\n",
    "        @unpack ScenarioModel, latentname, ealg, malg, elike, mlike, trace = res\n",
    "\n",
    "        for (force, method) in [(trace[end].force, \"BSP\"), (ZeroForce(), \"Zero\")]\n",
    "            verbose && println(\"count: $count\")\n",
    "            verbose && if method == \"BSP\"\n",
    "                println(BayesianSymbolic.get_executable(force.tree, force.grammar))\n",
    "                println(force.constant)\n",
    "            end\n",
    "            evalres = evalforce(ScenarioModel, scenarios, attributes, force, ealg, elike, mlike)\n",
    "            evalres_test = evalforce(ScenarioModel, scenarios_test, attributes_test, force, ealg, elike, mlike)\n",
    "\n",
    "            # Add to data frame\n",
    "            df.loc[count] = [method, evalres.normrmse, evalres_test.normrmse, seed, shuffleseed]\n",
    "            count = count + 1\n",
    "        end\n",
    "        verbose && println()\n",
    "    end\n",
    "    \n",
    "    return df\n",
    "end"
   ]
  },
  {
   "cell_type": "markdown",
   "metadata": {},
   "source": [
    "Report results on FALL"
   ]
  },
  {
   "cell_type": "code",
   "execution_count": null,
   "metadata": {
    "tags": []
   },
   "outputs": [],
   "source": [
    "df = report_phys101(\"fall\"; verbose=true)"
   ]
  },
  {
   "cell_type": "code",
   "execution_count": null,
   "metadata": {},
   "outputs": [],
   "source": [
    "df.groupby([\"Method\"]).median()"
   ]
  },
  {
   "cell_type": "code",
   "execution_count": null,
   "metadata": {},
   "outputs": [],
   "source": [
    "df.groupby([\"Method\"]).quantile([.25, .75])"
   ]
  },
  {
   "cell_type": "code",
   "execution_count": null,
   "metadata": {},
   "outputs": [],
   "source": [
    "df.groupby([\"Method\"]).mean()"
   ]
  },
  {
   "cell_type": "code",
   "execution_count": null,
   "metadata": {},
   "outputs": [],
   "source": [
    "df.groupby([\"Method\"]).std()"
   ]
  },
  {
   "cell_type": "markdown",
   "metadata": {},
   "source": [
    "Report results on SPRING"
   ]
  },
  {
   "cell_type": "code",
   "execution_count": null,
   "metadata": {
    "tags": []
   },
   "outputs": [],
   "source": [
    "df = report_phys101(\"spring\"; verbose=true)"
   ]
  },
  {
   "cell_type": "code",
   "execution_count": null,
   "metadata": {},
   "outputs": [],
   "source": [
    "df.groupby([\"Method\"]).median()"
   ]
  },
  {
   "cell_type": "code",
   "execution_count": null,
   "metadata": {},
   "outputs": [],
   "source": [
    "df.groupby([\"Method\"]).quantile([.25, .75])"
   ]
  },
  {
   "cell_type": "code",
   "execution_count": null,
   "metadata": {},
   "outputs": [],
   "source": [
    "df.groupby([\"Method\"]).mean()"
   ]
  },
  {
   "cell_type": "code",
   "execution_count": null,
   "metadata": {},
   "outputs": [],
   "source": [
    "df.groupby([\"Method\"]).std()"
   ]
  },
  {
   "cell_type": "code",
   "execution_count": null,
   "metadata": {},
   "outputs": [],
   "source": []
  }
 ],
 "metadata": {
  "kernelspec": {
   "display_name": "Julia 1.6.1",
   "language": "julia",
   "name": "julia-1.6"
  },
  "language_info": {
   "file_extension": ".jl",
   "mimetype": "application/julia",
   "name": "julia",
   "version": "1.6.1"
  }
 },
 "nbformat": 4,
 "nbformat_minor": 4
}
