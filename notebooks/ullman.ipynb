{
 "cells": [
  {
   "cell_type": "code",
   "execution_count": null,
   "metadata": {},
   "outputs": [],
   "source": [
    "1 + 1"
   ]
  },
  {
   "cell_type": "code",
   "execution_count": null,
   "metadata": {},
   "outputs": [],
   "source": [
    "using InteractiveUtils, DrWatson, Comonicon\n",
    "if isdefined(Main, :IJulia) && Main.IJulia.inited\n",
    "    using Revise\n",
    "else\n",
    "    ENV[\"GKSwstype\"] = 100 # suppress warnings during gif saving\n",
    "end\n",
    "versioninfo()\n",
    "@quickactivate"
   ]
  },
  {
   "cell_type": "code",
   "execution_count": null,
   "metadata": {},
   "outputs": [],
   "source": [
    "using Plots, ProgressMeter, Logging\n",
    "theme(:bright; size=(300, 300))"
   ]
  },
  {
   "cell_type": "code",
   "execution_count": null,
   "metadata": {},
   "outputs": [],
   "source": [
    "using Random, Turing, BayesianSymbolic\n",
    "using ExprOptimization.ExprRules\n",
    "using PyCall\n",
    "pd = pyimport(\"pandas\")\n",
    "\n",
    "includef(args...) = isdefined(Main, :Revise) ? includet(args...) : include(args...)\n",
    "includef(srcdir(\"utility.jl\"))\n",
    "includef(srcdir(\"app_inf.jl\"))\n",
    "includef(srcdir(\"sym_reg.jl\"))\n",
    "includef(srcdir(\"network.jl\"))\n",
    "includef(srcdir(\"exp_max.jl\"))\n",
    "includef(srcdir(\"analyse.jl\"))\n",
    "includef(srcdir(\"dataset.jl\"))\n",
    "# Suppress warnings of using _varinfo\n",
    "with_logger(SimpleLogger(stderr, Logging.Error)) do\n",
    "    includef(srcdir(\"scenarios\", \"ullman.jl\"))\n",
    "end\n",
    "includef(scriptsdir(\"ullman_hacks.jl\"))"
   ]
  },
  {
   "cell_type": "code",
   "execution_count": null,
   "metadata": {},
   "outputs": [],
   "source": [
    "scenario, attribute = loadullman(datadir(\"ullman\", \"processed\"), 1)\n",
    "\n",
    "foreach(scenario.scenes) do scene\n",
    "    @info scene.group\n",
    "    @info groupinfo(scene.group)\n",
    "end\n",
    "\n",
    "@info attribute\n",
    "\n",
    "@info compute_normrmse(\n",
    "    UllmanScenario, [scenario], make_latents([attribute]), BayesianSymbolic.getforce, Likelihood(nahead=1)\n",
    ")"
   ]
  },
  {
   "cell_type": "code",
   "execution_count": null,
   "metadata": {},
   "outputs": [],
   "source": [
    "scene = scenario.scenes[2]\n",
    "\n",
    "@gif for t in 1:length(scene.traj)\n",
    "    plot(scene.entity, scene.traj, t)\n",
    "end"
   ]
  },
  {
   "cell_type": "code",
   "execution_count": null,
   "metadata": {},
   "outputs": [],
   "source": [
    "make_pos_plot(scene.traj)"
   ]
  },
  {
   "cell_type": "code",
   "execution_count": null,
   "metadata": {},
   "outputs": [],
   "source": [
    "make_vel_plot(scene.traj)"
   ]
  },
  {
   "cell_type": "code",
   "execution_count": null,
   "metadata": {},
   "outputs": [],
   "source": [
    "make_acc_plot(scene.traj)"
   ]
  },
  {
   "cell_type": "markdown",
   "metadata": {},
   "source": [
    "## Study how to extract the assumed external force"
   ]
  },
  {
   "cell_type": "code",
   "execution_count": null,
   "metadata": {
    "tags": []
   },
   "outputs": [],
   "source": [
    "d1 = Dict(i => i for i in 1:5)\n",
    "d2 = Dict(i => i for i in 1:5)\n",
    "d3 = Dict(0.01 => 1, 0.1 => 2, 1.0 => 3)\n",
    "r3 = Dict(1 => 0.01, 2 => 0.1, 3 => 1.0)\n",
    "\n",
    "results = []\n",
    "\n",
    "Threads.@threads for (niterations, nahead, nlevel) in collect(Iterators.product(1:5, 1:5, [0.01, 0.1, 1.0]))\n",
    "\n",
    "    force = let seed = 1,\n",
    "        ScenarioModel = UllmanScenario,\n",
    "        latentname = [\"mass1\", \"mass2\", \"mass3\", \"charge1\", \"charge2\", \"charge3\", \"fric1\", \"fric2\", \"fric\"],\n",
    "        malg = HandCodedForce(niterations=niterations, mask=Bool[1,1,0,0,1]),\n",
    "        mlike = Likelihood(nahead=nahead, nlevel=nlevel),\n",
    "        scenarios = [scenario]\n",
    "        attributes = [attribute]\n",
    "\n",
    "        Random.seed!(seed)\n",
    "        latents = make_latents(attributes) # orcale latents\n",
    "        tused = @elapsed force = mstep(malg, ScenarioModel, scenarios, latents, mlike; verbose=true)\n",
    "\n",
    "        force\n",
    "    end\n",
    "\n",
    "    push!(results, (force=force, niterations=niterations, nahead=nahead, nlevel))\n",
    "    \n",
    "end"
   ]
  },
  {
   "cell_type": "code",
   "execution_count": null,
   "metadata": {},
   "outputs": [],
   "source": [
    "C = zeros(5, 5, 5, 3)\n",
    "for res in results\n",
    "    C[:,d1[res.niterations],d2[res.nahead],d3[res.nlevel]] = res.force.constant\n",
    "end"
   ]
  },
  {
   "cell_type": "code",
   "execution_count": null,
   "metadata": {},
   "outputs": [],
   "source": [
    "function vis_constants(C, inlevel)\n",
    "    @info \"nlevel=$(r3[inlevel])\"\n",
    "\n",
    "    constant_names = [\"C\", \"G₀\", \"G\", \"Gm\", \"Gc\"][[1,2,5]]\n",
    "    clims = [(15, 40), (0, 30), (-1, 1)]\n",
    "    ps = []\n",
    "\n",
    "    xs = [string(i) for i in 1:5]\n",
    "    ys = [string(i) for i in 1:5]\n",
    "\n",
    "    for (i, (name, clim)) in enumerate(zip(constant_names, clims))\n",
    "        z = C[i,:,:,inlevel]\n",
    "\n",
    "        p = plot()\n",
    "        heatmap!(p, xs, ys, z; aspect_ratio=1, clim=clim)\n",
    "        xlabel!(p, \"#iterations\")\n",
    "        ylabel!(p, \"#ahead\")\n",
    "        title!(p, name)\n",
    "\n",
    "        push!(ps, p)\n",
    "    end\n",
    "\n",
    "    plot(ps...; size=(300 * 3, 300), layout=Plots.GridLayout(1, length(constant_names)))\n",
    "    \n",
    "end\n",
    "\n",
    "vis_constants(C, 1)"
   ]
  },
  {
   "cell_type": "code",
   "execution_count": null,
   "metadata": {},
   "outputs": [],
   "source": [
    "vis_constants(C, 2)"
   ]
  },
  {
   "cell_type": "code",
   "execution_count": null,
   "metadata": {},
   "outputs": [],
   "source": [
    "vis_constants(C, 3)"
   ]
  },
  {
   "cell_type": "markdown",
   "metadata": {},
   "source": [
    "## Extract the external force with sensible parameters"
   ]
  },
  {
   "cell_type": "code",
   "execution_count": null,
   "metadata": {},
   "outputs": [],
   "source": [
    "force_ext = let ScenarioModel = UllmanScenario, slient = false\n",
    "    # Load World 1 for fitting external\n",
    "    scenario_ext, attribute_ext = loadullman(datadir(\"ullman\", \"processed\"), 1)\n",
    "\n",
    "    malg_ext = HandCodedForce(niterations=3, mask=Bool[1,1,0,0,1])\n",
    "    mlike_ext = Likelihood(nahead=3, nlevel=0.1)\n",
    "    latents_ext = make_latents([attribute_ext])\n",
    "    mstep(malg_ext, UllmanScenario, [scenario_ext], latents_ext, mlike_ext; verbose=!slient)\n",
    "end"
   ]
  },
  {
   "cell_type": "code",
   "execution_count": null,
   "metadata": {},
   "outputs": [],
   "source": [
    "res[\"malg\"].opt"
   ]
  },
  {
   "cell_type": "code",
   "execution_count": null,
   "metadata": {},
   "outputs": [],
   "source": [
    "function make_est(latent)\n",
    "    _, i = findmax(map(l -> l.logweight, latent))\n",
    "    return latent[i].value\n",
    "end\n",
    "\n",
    "results = []\n",
    "forces = []\n",
    "@showprogress for wid in 1:10, sid in 1:6\n",
    "    let niters = 1, seed = 0, slient = false\n",
    "        hps = @ntuple(wid, sid, niters, seed)\n",
    "        respath = projectdir(\"results-submission\", \"ullman\", savename(hps; connector=\"-\"), \"em.jld2\")\n",
    "        try\n",
    "            scenario, attribute = loadullman(\n",
    "                datadir(\"ullman\", \"processed\"), wid; idcs=[sid]\n",
    "            )\n",
    "            scenarios = [scenario]\n",
    "            \n",
    "            res = wload(respath)\n",
    "\n",
    "            @unpack ScenarioModel, latentname, ealg, malg, elike, mlike, trace = res\n",
    "\n",
    "            force = trace[end].force\n",
    "            force = @set(force.external = make_getforce(force_ext))\n",
    "            \n",
    "            push!(forces, (wid=wid, expr=BayesianSymbolic.get_executable(force.tree, force.grammar)))\n",
    "\n",
    "            latents = estep(ImportanceSampling(nsamples=500), ScenarioModel, scenarios, force, elike; verbose=!slient)\n",
    "\n",
    "#             est = expect.(x -> x, latents)[1]\n",
    "            est = make_est.(latents)[1]\n",
    "            !slient && @info \"\" est attribute\n",
    "            \n",
    "            push!(results, (wid=wid, sid=sid, est=est, att=attribute))\n",
    "        catch e\n",
    "            println(\"Failed to load $respath\")\n",
    "            if isa(e, InterruptException)\n",
    "                throw(e)\n",
    "            end\n",
    "        end\n",
    "    end\n",
    "end"
   ]
  },
  {
   "cell_type": "code",
   "execution_count": null,
   "metadata": {},
   "outputs": [],
   "source": [
    "function findclosest(s, x)\n",
    "    l1 = Inf\n",
    "    local retval\n",
    "    for y in s\n",
    "        _l1 = abs(y - x)\n",
    "        if _l1 < l1\n",
    "            l1 = _l1\n",
    "            retval = y\n",
    "        end\n",
    "    end\n",
    "    return retval\n",
    "end\n",
    "\n",
    "function answer_ques(est, att, opt; verbose=false)\n",
    "    @assert length(est) == length(att)\n",
    "    verbose && @info \"\" est att opt\n",
    "    retval = []\n",
    "    for i in 1:length(est)\n",
    "        c = findclosest(opt, est[i])\n",
    "        push!(retval, c == att[i])\n",
    "    end\n",
    "    return retval\n",
    "end\n",
    "\n",
    "cmass, cfric = [], []\n",
    "for (idx, (wid, sid, est, att)) in enumerate(results)\n",
    "    any(isnan.(est)) && (println(\"$idx has NaN\"); continue)\n",
    "    append!(cmass, answer_ques(est[1:3], att[1:3], [1, 3, 9]))\n",
    "    append!(cfric, answer_ques(est[7:9], att[7:9], [0, 5, 20]))\n",
    "end\n",
    "\n",
    "cmass |> mean, cfric |> mean"
   ]
  },
  {
   "cell_type": "code",
   "execution_count": null,
   "metadata": {},
   "outputs": [],
   "source": [
    "function make_mat(est, att, opt)\n",
    "    @assert length(est) == length(att)\n",
    "    mat = zeros(3, 3)\n",
    "    for i in 1:length(est)\n",
    "        attidx = findfirst(sort(att) .== att[i])\n",
    "        c = findclosest(opt, est[i])\n",
    "        cidx = findfirst(sort(att) .== c)\n",
    "        mat[attidx,cidx] += 1\n",
    "    end\n",
    "    return mat\n",
    "end\n",
    "\n",
    "mmass = []\n",
    "mfric = []\n",
    "for (idx, (wid, sid, est, att)) in enumerate(results)\n",
    "    any(isnan.(est)) && (println(\"$idx has NaN\"); continue)\n",
    "    push!(mmass, make_mat(est[1:3], att[1:3], [1, 3, 9]))\n",
    "    push!(mfric, make_mat(est[7:9], att[7:9], [0, 5, 20]))\n",
    "end\n",
    "\n",
    "mmass |> mean"
   ]
  },
  {
   "cell_type": "code",
   "execution_count": null,
   "metadata": {},
   "outputs": [],
   "source": [
    "mfric |> mean"
   ]
  },
  {
   "cell_type": "code",
   "execution_count": null,
   "metadata": {},
   "outputs": [],
   "source": [
    "filter(f -> f.wid == 10, forces)"
   ]
  },
  {
   "cell_type": "code",
   "execution_count": null,
   "metadata": {},
   "outputs": [],
   "source": [
    "cgforce = [\n",
    "    true, false, true, true, false, true,\n",
    "    true, true, false, true, false, true,\n",
    "    false, true, true, false, false,\n",
    "    true, false,\n",
    "    true, true,\n",
    "    true, true, true, true,\n",
    "    \n",
    "    true, false, true, true, false,\n",
    "    \n",
    "    false, false, false, false, false, false,\n",
    "    \n",
    "    true, true, true, true,\n",
    "    \n",
    "    false, false, false, false,\n",
    "] \n",
    "\n",
    "cgforce |> mean"
   ]
  },
  {
   "cell_type": "code",
   "execution_count": null,
   "metadata": {},
   "outputs": [],
   "source": [
    "cpforce = [\n",
    "    true, true, true, true, true, true,\n",
    "    false, false, false, true, false, true,\n",
    "    true, false, true, true, false,\n",
    "    true, true,\n",
    "    false, true,\n",
    "    false, true, false, false,\n",
    "    false, false, true, true, false,\n",
    "    true, true, true, false, true, false,\n",
    "    false, false, false, false,\n",
    "    false, false, true, false\n",
    "] \n",
    "\n",
    "cpforce |> mean"
   ]
  },
  {
   "cell_type": "code",
   "execution_count": null,
   "metadata": {},
   "outputs": [],
   "source": []
  }
 ],
 "metadata": {
  "kernelspec": {
   "display_name": "Julia 1.6.1",
   "language": "julia",
   "name": "julia-1.6"
  },
  "language_info": {
   "file_extension": ".jl",
   "mimetype": "application/julia",
   "name": "julia",
   "version": "1.6.1"
  }
 },
 "nbformat": 4,
 "nbformat_minor": 4
}
