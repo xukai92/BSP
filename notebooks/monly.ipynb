{
 "cells": [
  {
   "cell_type": "code",
   "execution_count": null,
   "metadata": {},
   "outputs": [],
   "source": [
    "1 + 1"
   ]
  },
  {
   "cell_type": "code",
   "execution_count": null,
   "metadata": {},
   "outputs": [],
   "source": [
    "using InteractiveUtils, DrWatson, Comonicon\n",
    "if isdefined(Main, :IJulia) && Main.IJulia.inited\n",
    "    using Revise\n",
    "else\n",
    "    ENV[\"GKSwstype\"] = 100 # suppress warnings during gif saving\n",
    "end\n",
    "versioninfo()\n",
    "@quickactivate"
   ]
  },
  {
   "cell_type": "code",
   "execution_count": null,
   "metadata": {},
   "outputs": [],
   "source": [
    "using Plots, ProgressMeter, Logging\n",
    "theme(:bright; size=(300, 300))"
   ]
  },
  {
   "cell_type": "code",
   "execution_count": null,
   "metadata": {},
   "outputs": [],
   "source": [
    "using Random, Turing, BayesianSymbolic\n",
    "using ExprOptimization.ExprRules\n",
    "using PyCall\n",
    "pd = pyimport(\"pandas\")\n",
    "\n",
    "includef(args...) = isdefined(Main, :Revise) ? includet(args...) : include(args...)\n",
    "includef(srcdir(\"utility.jl\"))\n",
    "includef(srcdir(\"app_inf.jl\"))\n",
    "includef(srcdir(\"sym_reg.jl\"))\n",
    "includef(srcdir(\"network.jl\"))\n",
    "includef(srcdir(\"exp_max.jl\"))\n",
    "includef(srcdir(\"analyse.jl\"))\n",
    "includef(srcdir(\"dataset.jl\"))\n",
    "# Suppress warnings of using _varinfo\n",
    "with_logger(SimpleLogger(stderr, Logging.Error)) do\n",
    "    includef(srcdir(\"scenarios\", \"nbody.jl\"))\n",
    "    includef(srcdir(\"scenarios\", \"bounce.jl\"))\n",
    "    includef(srcdir(\"scenarios\", \"mat.jl\"))\n",
    "end"
   ]
  },
  {
   "cell_type": "code",
   "execution_count": null,
   "metadata": {},
   "outputs": [],
   "source": [
    "function report_synth(dataset, method; verbose=false, priordim=true, priortrans=true)\n",
    "    df = pd.DataFrame(\n",
    "        columns=(\"nRMSE\", \"#Scenes\", \"Seed\", \"Seed (Data)\")\n",
    "    )\n",
    "\n",
    "    count = 1\n",
    "    @showprogress for ntrains in 1:10, seed in 1:3, shuffleseed in 1:5\n",
    "        hps = (ntrains=ntrains, seed=seed, shuffleseed=shuffleseed)\n",
    "        fn = \"monly\"\n",
    "        if method in (\"bsp\", \"zero\")\n",
    "            hps = (hps..., priordim=priordim, priortrans=priortrans)\n",
    "        else\n",
    "            fn = \"$fn-$method\"\n",
    "        end\n",
    "\n",
    "        dir = datadir(dataset)\n",
    "        scenarios, attributes = loaddata(dir, hps.ntrains; shuffleseed=hps.shuffleseed)\n",
    "        scenarios_test, attributes_test = loaddata(dir, 20; shuffleseed=hps.shuffleseed, istrain=false)\n",
    "\n",
    "        local res\n",
    "        try\n",
    "            res = wload(resultsdir(dataset, savename(hps; connector=\"-\"), \"$fn.jld2\"))\n",
    "        catch\n",
    "            println(\"cannot find $fn\")\n",
    "            println(\"seed $(hps.seed) unfinished\")\n",
    "            continue\n",
    "        end\n",
    "\n",
    "        local ScenarioModel, force, nm, mlike\n",
    "        if method in (\"bsp\", \"zero\")\n",
    "            @unpack ScenarioModel, latentname, ealg, malg, elike, mlike, force = res\n",
    "            if method == \"zero\"\n",
    "                force = ZeroForce()\n",
    "            end\n",
    "        else\n",
    "            @unpack ScenarioModel, latentname, nm, mlike, ptrace = res\n",
    "        end\n",
    "\n",
    "        verbose && println(\"count: $count\")\n",
    "        \n",
    "        verbose && if method == \"bsp\"\n",
    "            println(BayesianSymbolic.get_executable(force.tree, force.grammar))\n",
    "            println(force.constant)\n",
    "        end\n",
    "        if method in (\"bsp\", \"zero\")\n",
    "            mmethod = force\n",
    "        else\n",
    "            mmethod = nm\n",
    "        end\n",
    "        \n",
    "        evalres = evalm(ScenarioModel, scenarios, attributes, mmethod, mlike)\n",
    "        evalres_test = evalm(ScenarioModel, scenarios_test, attributes_test, mmethod, mlike)\n",
    "\n",
    "        # Add to data frame\n",
    "        df.loc[count] = [evalres_test.normrmse_oracle, ntrains, seed, shuffleseed]\n",
    "        count = count + 1\n",
    "        verbose && println()\n",
    "    end\n",
    "    \n",
    "    return df\n",
    "end"
   ]
  },
  {
   "cell_type": "markdown",
   "metadata": {},
   "source": [
    "## Figure 4"
   ]
  },
  {
   "cell_type": "code",
   "execution_count": null,
   "metadata": {
    "tags": []
   },
   "outputs": [],
   "source": [
    "for dataset in (\"nbody\", \"bounce\", \"mat\")\n",
    "    for method in (\"bsp\", \"zero\", \"ogn\", \"in\", \"mlpforce\", \"mlpdynamics\")\n",
    "        df = report_synth(\"synth/$dataset\", method)\n",
    "        df.to_csv(projectdir(\"paper\", \"raw\", \"efficiency-$dataset-$method.csv\"), header=false)\n",
    "    end\n",
    "end"
   ]
  },
  {
   "cell_type": "markdown",
   "metadata": {},
   "source": [
    "## Figure 5"
   ]
  },
  {
   "cell_type": "code",
   "execution_count": null,
   "metadata": {},
   "outputs": [],
   "source": [
    "for dataset in (\"nbody\", \"bounce\", \"mat\")\n",
    "    for priordim in (false, true), priortrans in (false, true)\n",
    "        df = report_synth(\"synth/$dataset\", \"bsp\"; priordim=priordim, priortrans=priortrans)\n",
    "        df.to_csv(projectdir(\"paper\", \"raw\", \"efficiency-$dataset-g$(Int(priordim))$(Int(priortrans)).csv\"), header=false)\n",
    "    end\n",
    "end"
   ]
  },
  {
   "cell_type": "markdown",
   "metadata": {},
   "source": [
    "## Number of expressions in search space"
   ]
  },
  {
   "cell_type": "code",
   "execution_count": null,
   "metadata": {},
   "outputs": [],
   "source": [
    "c00 = count_expressions(G_BSP_00, 5, :Force)\n",
    "c01 = count_expressions(G_BSP_01, 5, :Force)\n",
    "c10 = count_expressions(G_BSP_10, 5, :Force)\n",
    "c11 = count_expressions(G_BSP_11, 5, :Force)\n",
    "@info \"Depth 5\" c00 c01 c10 c11\n",
    "\n",
    "# For depth 6, only c11 is tractable to compute.\n",
    "c11 = count_expressions(G_BSP_11, 6, :Force)\n",
    "@info \"Depth 6\" c11"
   ]
  },
  {
   "cell_type": "code",
   "execution_count": null,
   "metadata": {},
   "outputs": [],
   "source": []
  }
 ],
 "metadata": {
  "kernelspec": {
   "display_name": "Julia 1.6.1",
   "language": "julia",
   "name": "julia-1.6"
  },
  "language_info": {
   "file_extension": ".jl",
   "mimetype": "application/julia",
   "name": "julia",
   "version": "1.6.1"
  }
 },
 "nbformat": 4,
 "nbformat_minor": 4
}
