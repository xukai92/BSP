{
 "cells": [
  {
   "cell_type": "markdown",
   "metadata": {},
   "source": [
    "# Basics of BayesianSymbolic.jl"
   ]
  },
  {
   "cell_type": "code",
   "execution_count": null,
   "metadata": {},
   "outputs": [],
   "source": [
    "using InteractiveUtils, DrWatson, Comonicon\n",
    "if isdefined(Main, :IJulia) && Main.IJulia.inited\n",
    "    using Revise\n",
    "else\n",
    "    ENV[\"GKSwstype\"] = 100 # suppress warnings during gif saving\n",
    "end\n",
    "versioninfo()\n",
    "@quickactivate"
   ]
  },
  {
   "cell_type": "code",
   "execution_count": null,
   "metadata": {},
   "outputs": [],
   "source": [
    "using Plots, Parameters, BenchmarkTools\n",
    "theme(:bright; size=(300, 300))"
   ]
  },
  {
   "cell_type": "code",
   "execution_count": null,
   "metadata": {},
   "outputs": [],
   "source": [
    "using BayesianSymbolic"
   ]
  },
  {
   "cell_type": "markdown",
   "metadata": {},
   "source": [
    "## Define entities and initial states and ... run the simulation\n",
    "\n",
    "Note that by default there are pairwise forces and a global vertical force that mimics the gravity in 2D.\n",
    "There are means to change this behaviour, which are in other notebooks.\n",
    "\n",
    "Note that you can also get individual entities or states back via `entity[i]` or `state0[i]`."
   ]
  },
  {
   "cell_type": "code",
   "execution_count": null,
   "metadata": {},
   "outputs": [],
   "source": [
    "function simulate(entity, state0, dt, n_steps)\n",
    "    trajectory = Vector{State}(undef, n_steps)\n",
    "    for i in 1:n_steps\n",
    "        if i == 1\n",
    "            trajectory[i] = run(Leapfrog(dt), entity, state0)\n",
    "        else\n",
    "            trajectory[i] = run(Leapfrog(dt), entity, trajectory[i-1])\n",
    "        end\n",
    "    end\n",
    "    return trajectory\n",
    "end\n",
    "\n",
    "entity_x = Entity(dynamic=true,  mass=1e0, magnetism=+1e+0, shape=Disc(2e-1))\n",
    "entity_y = Entity(dynamic=false, mass=1e0, magnetism=-1e+1, shape=Disc(2e-1))\n",
    "entity_z = Entity(dynamic=false, friction=+5e-1, shape=RectMat(2e0, 1e0))\n",
    "\n",
    "entity = cat(entity_x, entity_y, entity_z)\n",
    "\n",
    "state0_x = State(position=[-1e0, +0e0], velocity=[+1e0, +2e0])\n",
    "state0_y = State(position=[+2e0, +1e0])\n",
    "state0_z = State(position=[+1e0, +2e0])\n",
    "\n",
    "state0 = cat(state0_x, state0_y, state0_z)\n",
    "\n",
    "dt, n_steps = 2e-2, 100\n",
    "\n",
    "trajectory = simulate(entity, state0, dt, n_steps)\n",
    "\n",
    "@info \"Number of states in the trajectory\" length(trajectory)\n",
    "\n",
    "plot(entity, [state0, trajectory...])"
   ]
  },
  {
   "cell_type": "code",
   "execution_count": null,
   "metadata": {},
   "outputs": [],
   "source": [
    "anim = @animate for i in 1:(n_steps+1)\n",
    "    plot(entity, [state0, trajectory...], i)\n",
    "end\n",
    "\n",
    "gif(anim)"
   ]
  },
  {
   "cell_type": "code",
   "execution_count": null,
   "metadata": {},
   "outputs": [],
   "source": [
    "anim = @animate for magnetism in -10:5e-1:10\n",
    "    entity′ = cat(entity_x, reconstruct(entity_y, magnetism=magnetism), entity_z)\n",
    "    trajectory′ = simulate(entity′, state0, dt, n_steps)\n",
    "    p = plot(entity′, [state0, trajectory′...])\n",
    "    xlims!(-3, +3); ylims!(+0, +6)\n",
    "    title!(\"magnetism=$magnetism\")\n",
    "    p\n",
    "end\n",
    "\n",
    "gif(anim; fps=5)"
   ]
  },
  {
   "cell_type": "code",
   "execution_count": null,
   "metadata": {},
   "outputs": [],
   "source": [
    "anim = @animate for friction in 0:2e-1:5\n",
    "    entity′ = cat(entity_x, entity_y, reconstruct(entity_z, friction=friction))\n",
    "    trajectory′ = simulate(entity′, state0, dt, n_steps)\n",
    "    p = plot(entity′, [state0, trajectory′...])\n",
    "    xlims!(-1, +3); ylims!(+0, +4)\n",
    "    title!(\"friction=$friction\")\n",
    "    p\n",
    "end\n",
    "\n",
    "gif(anim; fps=5)"
   ]
  },
  {
   "cell_type": "markdown",
   "metadata": {},
   "source": [
    "### Vectorization"
   ]
  },
  {
   "cell_type": "code",
   "execution_count": null,
   "metadata": {},
   "outputs": [],
   "source": [
    "states = cat([state0, trajectory[1:end-1]...]...)\n",
    "states = State(position=states.position, velocity=states.velocity)\n",
    "states = run(Leapfrog(dt), entity, states)\n",
    "trajectory_vec = [states[:,t] for t in 1:size(states, 3)]\n",
    "\n",
    "plot(entity, [state0, trajectory_vec...])"
   ]
  },
  {
   "cell_type": "markdown",
   "metadata": {},
   "source": [
    "### Performance difference"
   ]
  },
  {
   "cell_type": "code",
   "execution_count": null,
   "metadata": {},
   "outputs": [],
   "source": [
    "using BenchmarkTools\n",
    "\n",
    "t_seq = @belapsed simulate(entity, state0, dt, n_steps)\n",
    "t_vec = @belapsed run(Leapfrog(dt), entity, states)\n",
    "\n",
    "@info \"Comparison\" t_seq t_vec"
   ]
  },
  {
   "cell_type": "code",
   "execution_count": null,
   "metadata": {},
   "outputs": [],
   "source": []
  }
 ],
 "metadata": {
  "kernelspec": {
   "display_name": "Julia 1.6.1",
   "language": "julia",
   "name": "julia-1.6"
  },
  "language_info": {
   "file_extension": ".jl",
   "mimetype": "application/julia",
   "name": "julia",
   "version": "1.6.1"
  }
 },
 "nbformat": 4,
 "nbformat_minor": 4
}
