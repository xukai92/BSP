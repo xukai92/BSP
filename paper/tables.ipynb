{
 "cells": [
  {
   "cell_type": "code",
   "execution_count": null,
   "id": "9526fb84-b489-4485-953c-cce2f48ab9ff",
   "metadata": {},
   "outputs": [],
   "source": [
    "import pandas as pd"
   ]
  },
  {
   "cell_type": "code",
   "execution_count": null,
   "id": "0116c950-8686-4e12-8252-fdd03e7af956",
   "metadata": {},
   "outputs": [],
   "source": [
    "METHOD_ABBR_DICT = {\n",
    "    \"BSP\": \"bsp\",\n",
    "    \"Zero\": \"zero\",\n",
    "}\n",
    "\n",
    "dataset = \"nbody\"\n",
    "method = \"BSP\"\n",
    "\n",
    "fn = f\"raw/em-{dataset}-{METHOD_ABBR_DICT[method]}.csv\"\n",
    "df = pd.read_csv(fn, names=[\"Printed Idx\", \"nRMSE\", \"Seed\", \"Seed (Data)\"])"
   ]
  },
  {
   "cell_type": "code",
   "execution_count": null,
   "id": "e6578813-a1ee-41c0-87d6-9518b3fc58ab",
   "metadata": {},
   "outputs": [],
   "source": [
    "df_full = pd.DataFrame(\n",
    "    columns=(\"Method\", \"Median\", \"25% Q\", \"75% Q\")\n",
    ")\n",
    "df_full.loc[1] = [method, df.median()[\"nRMSE\"], df.quantile(0.25)[\"nRMSE\"], df.quantile(0.75)[\"nRMSE\"]]\n",
    "\n",
    "print(df_full.to_string(index=False))"
   ]
  },
  {
   "cell_type": "code",
   "execution_count": null,
   "id": "2e8bf094-1b73-4b1f-a5c6-6421f13fa42c",
   "metadata": {},
   "outputs": [],
   "source": [
    "from decimal import Decimal\n",
    "\n",
    "def float_format(x):\n",
    "    # {:.3g} gets 3 significant digits from x\n",
    "    # {:e} turns x into the scientific format\n",
    "    s = \"{:e}\".format(Decimal(\"{:.3g}\".format(x)))\n",
    "    if \"e+\" in s:\n",
    "        deli = \"e+\"\n",
    "        deli_tex = r\"\\text{e}\"\n",
    "    else:\n",
    "        deli = \"e-\"\n",
    "        deli_tex = r\"\\text{e-}\"\n",
    "    return \"$\" + deli_tex.join(s.split(deli)) + \"$\"\n",
    "\n",
    "print(df_full.to_latex(index=False, float_format=float_format, escape=False))"
   ]
  }
 ],
 "metadata": {
  "kernelspec": {
   "display_name": "avitm",
   "language": "python",
   "name": "avitm"
  },
  "language_info": {
   "codemirror_mode": {
    "name": "ipython",
    "version": 3
   },
   "file_extension": ".py",
   "mimetype": "text/x-python",
   "name": "python",
   "nbconvert_exporter": "python",
   "pygments_lexer": "ipython3",
   "version": "3.8.10"
  }
 },
 "nbformat": 4,
 "nbformat_minor": 5
}
