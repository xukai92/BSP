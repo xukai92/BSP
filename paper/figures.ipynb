{
 "cells": [
  {
   "cell_type": "code",
   "execution_count": null,
   "metadata": {},
   "outputs": [],
   "source": [
    "import os\n",
    "PROJ_DIR = os.path.expanduser(\"~/projects/bsp\")\n",
    "\n",
    "import pandas as pd\n",
    "from matplotlib import pyplot as plt\n",
    "plt.style.use(\"bmh\")\n",
    "COLORS = plt.rcParams[\"axes.prop_cycle\"].by_key()[\"color\"]"
   ]
  },
  {
   "cell_type": "code",
   "execution_count": null,
   "metadata": {
    "tags": []
   },
   "outputs": [],
   "source": [
    "METHOD_ABBR_DICT = {\n",
    "    \"bsp\": (\"BSP\", COLORS[0]),\n",
    "    \"ogn\": (\"OGN\", COLORS[1]), \n",
    "    \"in\": (\"IN\", COLORS[2]),\n",
    "    \"mlpforce\": (\"MLP (Force)\", COLORS[3]), \n",
    "    \"mlpdynamics\": (\"MLP (Position)\", COLORS[4]),\n",
    "    \"zero\": (r\"$F_0$\", \"gray\"),\n",
    "    \n",
    "    \"g11\": (r\"$G_{11}$\", COLORS[0]),\n",
    "    \"g10\": (r\"$G_{10}$\", COLORS[1]),\n",
    "    \"g01\": (r\"$G_{01}$\", COLORS[2]),\n",
    "    \"g00\": (r\"$G_{00}$\", COLORS[3]),\n",
    "}\n",
    "\n",
    "def make_efficiency_plot(dataset, methods, figsize=(4, 3), savefig=False, suffix=None, logscale=False):\n",
    "    fig, ax = plt.subplots(figsize=figsize, tight_layout=True)\n",
    "\n",
    "    for (idx, method) in enumerate(methods):\n",
    "        \n",
    "        method_display, color = METHOD_ABBR_DICT[method]\n",
    "        \n",
    "        fn = f\"{PROJ_DIR}/paper/raw/efficiency-{dataset}-{method}.csv\"\n",
    "        df = pd.read_csv(fn, names=[\"nRMSE\", \"#Scenes\", \"Seed\", \"Seed (Data)\"])\n",
    "        nRMSE = df.groupby(\"#Scenes\")[\"nRMSE\"]\n",
    "        \n",
    "        if method == r\"$F_0$\":\n",
    "            y = [nRMSE[0]]\n",
    "            ax.hlines(y, 1, 10, color=color, label=method_display, linestyles=\"dashed\")\n",
    "        else:\n",
    "            x = range(1, 10 + 1)\n",
    "            y = nRMSE.median()\n",
    "            yl = nRMSE.quantile(0.25)\n",
    "            yh = nRMSE.quantile(0.75)\n",
    "            ax.plot(x, y, \"-x\", color=color, label=method_display, alpha=0.8)\n",
    "            plt.fill_between(x, yl, yh, color=color, alpha=0.2)\n",
    "\n",
    "    ax.set_xlabel(\"No. of scenes in training\")\n",
    "    ax.set_ylabel(\"nRMSE\")\n",
    "    ax.legend(ncol=2)\n",
    "    if logscale: ax.set_yscale(\"log\")\n",
    "    if savefig: fig.savefig(f\"{PROJ_DIR}/paper/figs/efficiency-{dataset + '-' + suffix if suffix else dataset}.pdf\", bbox_inches=\"tight\")\n",
    "    plt.close(fig)\n",
    "    return fig"
   ]
  },
  {
   "cell_type": "markdown",
   "metadata": {},
   "source": [
    "## Figure 4"
   ]
  },
  {
   "cell_type": "code",
   "execution_count": null,
   "metadata": {},
   "outputs": [],
   "source": [
    "# Plots with selected methods\n",
    "# This is needed as some methods are too bad and make it hard to see the difference\n",
    "make_efficiency_plot(\"nbody\", [\"bsp\", \"ogn\", \"in\", \"mlpforce\", \"zero\"], savefig=True)"
   ]
  },
  {
   "cell_type": "code",
   "execution_count": null,
   "metadata": {},
   "outputs": [],
   "source": [
    "make_efficiency_plot(\"bounce\", [\"bsp\", \"ogn\", \"mlpforce\", \"zero\"], savefig=True)"
   ]
  },
  {
   "cell_type": "code",
   "execution_count": null,
   "metadata": {},
   "outputs": [],
   "source": [
    "make_efficiency_plot(\"mat\", [\"bsp\", \"ogn\", \"mlpforce\", \"zero\"], savefig=True)"
   ]
  },
  {
   "cell_type": "code",
   "execution_count": null,
   "metadata": {},
   "outputs": [],
   "source": [
    "# Also save version with all methods\n",
    "for dataset in [\"nbody\", \"bounce\", \"mat\"]:\n",
    "    fig = make_efficiency_plot(dataset, [\"bsp\", \"ogn\", \"in\", \"mlpforce\", \"mlpdynamics\", \"zero\"], savefig=True, suffix=\"full\")"
   ]
  },
  {
   "cell_type": "markdown",
   "metadata": {},
   "source": [
    "## Figure 5"
   ]
  },
  {
   "cell_type": "code",
   "execution_count": null,
   "metadata": {},
   "outputs": [],
   "source": [
    "make_efficiency_plot(\"nbody\", [\"g11\", \"g01\", \"g00\"], savefig=True, figsize=(4, 2), suffix=\"ablation\")"
   ]
  },
  {
   "cell_type": "code",
   "execution_count": null,
   "metadata": {},
   "outputs": [],
   "source": [
    "make_efficiency_plot(\"bounce\", [\"g11\", \"g01\", \"g00\"], savefig=True, figsize=(4, 2), suffix=\"ablation\", logscale=True)"
   ]
  },
  {
   "cell_type": "code",
   "execution_count": null,
   "metadata": {},
   "outputs": [],
   "source": [
    "make_efficiency_plot(\"mat\", [\"g11\", \"g01\", \"g00\"], savefig=True, figsize=(4, 2), suffix=\"ablation\")"
   ]
  },
  {
   "cell_type": "code",
   "execution_count": null,
   "metadata": {},
   "outputs": [],
   "source": []
  }
 ],
 "metadata": {
  "kernelspec": {
   "display_name": "avitm",
   "language": "python",
   "name": "avitm"
  },
  "language_info": {
   "codemirror_mode": {
    "name": "ipython",
    "version": 3
   },
   "file_extension": ".py",
   "mimetype": "text/x-python",
   "name": "python",
   "nbconvert_exporter": "python",
   "pygments_lexer": "ipython3",
   "version": "3.8.10"
  }
 },
 "nbformat": 4,
 "nbformat_minor": 4
}
